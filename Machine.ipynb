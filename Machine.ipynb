{
 "cells": [
  {
   "cell_type": "markdown",
   "id": "da694be9",
   "metadata": {},
   "source": [
    "# Required Libraries\n"
   ]
  },
  {
   "cell_type": "code",
   "execution_count": null,
   "id": "79d50593",
   "metadata": {},
   "outputs": [],
   "source": [
    "from influxdb_client import InfluxDBClient\n",
    "import time "
   ]
  },
  {
   "cell_type": "code",
   "execution_count": null,
   "id": "9ba15b55",
   "metadata": {},
   "outputs": [],
   "source": [
    "class Machine:\n",
    "    def __init__(self, user):\n",
    "        self.user = user\n",
    "    \n",
    "    def machine_connect(self,url,token,org,bucket, command):\n",
    "        client = InfluxDBClient(url=url, token=token)\n",
    "        query_api = client.query_api()\n",
    "\n",
    "        query = f'from(bucket:'+bucket +') |> range(start: -5s)'\n",
    "\n",
    "        df = query_api.query_data_frame(query, org=org)\n",
    "\n",
    "        try:\n",
    "            dflen = len(df['host'] )\n",
    "            print(\"Machine connected \" )\n",
    "            command=command\n",
    "        except:\n",
    "            print(\"Machine not connected....! Sensor connection\" )"
   ]
  },
  {
   "cell_type": "code",
   "execution_count": null,
   "id": "74b7cd43",
   "metadata": {},
   "outputs": [],
   "source": [
    "while True:\n",
    "    new_machine = Machine('tlk').machine_connect(url,token,org,bucket, command)\n",
    "    time.sleep(5)"
   ]
  },
  {
   "cell_type": "code",
   "execution_count": null,
   "id": "055a55ed",
   "metadata": {},
   "outputs": [],
   "source": []
  }
 ],
 "metadata": {
  "kernelspec": {
   "display_name": "Python 3 (ipykernel)",
   "language": "python",
   "name": "python3"
  },
  "language_info": {
   "codemirror_mode": {
    "name": "ipython",
    "version": 3
   },
   "file_extension": ".py",
   "mimetype": "text/x-python",
   "name": "python",
   "nbconvert_exporter": "python",
   "pygments_lexer": "ipython3",
   "version": "3.9.7"
  }
 },
 "nbformat": 4,
 "nbformat_minor": 5
}
